{
 "cells": [
  {
   "cell_type": "code",
   "execution_count": 1,
   "id": "69fb4aa3",
   "metadata": {},
   "outputs": [
    {
     "name": "stderr",
     "output_type": "stream",
     "text": [
      "C:\\Users\\Tyler\\AppData\\Local\\Temp\\ipykernel_15196\\1274915342.py:3: DtypeWarning: Columns (6,7) have mixed types. Specify dtype option on import or set low_memory=False.\n",
      "  Xte = pd.read_csv('Xte.csv')\n"
     ]
    }
   ],
   "source": [
    "import pandas as pd\n",
    "Xtr = pd.read_csv('Xtr.csv')\n",
    "Xte = pd.read_csv('Xte.csv')\n",
    "Xte.loc[Xte['Town'] == '***Unknown***', 'Town'] = 'East Hampton'\n",
    "Xtr_Address = pd.read_csv('Xtr_Address.csv')\n",
    "Xte_Address = pd.read_csv('Xte_Address.csv')"
   ]
  },
  {
   "cell_type": "code",
   "execution_count": 2,
   "id": "542def17",
   "metadata": {},
   "outputs": [],
   "source": [
    "Xtr['Address'] = pd.merge(Xtr, Xtr_Address[['ID', 'Address']], on='ID', how='left')['Address_y']\n",
    "Xte['Address'] = pd.merge(Xte, Xte_Address[['ID', 'Address']], on='ID', how='left')['Address_y']"
   ]
  },
  {
   "cell_type": "code",
   "execution_count": 3,
   "id": "7c671c1d",
   "metadata": {},
   "outputs": [],
   "source": [
    "Xtr1 = Xtr.copy()\n",
    "Xte1 = Xte.copy()"
   ]
  },
  {
   "cell_type": "code",
   "execution_count": 4,
   "id": "ee2baecd",
   "metadata": {},
   "outputs": [],
   "source": [
    "# Find missing Address by Town\n",
    "Xtr1['Address'] = Xtr1.groupby('Town')['Address'].transform(lambda x: x.fillna(x.mode()[0]))\n",
    "Xte1['Address'] = Xte1.groupby('Town')['Address'].transform(lambda x: x.fillna(x.mode()[0]))"
   ]
  },
  {
   "cell_type": "code",
   "execution_count": 5,
   "id": "b5972524",
   "metadata": {},
   "outputs": [],
   "source": [
    "# Filling missing NAs by Address\n",
    "Xtr1['Assessed_Value'] = Xtr1.groupby(['Address'])['Assessed_Value'].transform(lambda x: x.fillna(x.median()))\n",
    "Xte1['Assessed_Value'] = Xte1.groupby(['Address'])['Assessed_Value'].transform(lambda x: x.fillna(x.median()))\n",
    "\n",
    "# Replace NaN values with 0 in Assessed_Value\n",
    "Xtr1[\"Assessed_Value\"].fillna(0, inplace=True)\n",
    "Xte1[\"Assessed_Value\"].fillna(0, inplace=True)"
   ]
  },
  {
   "cell_type": "code",
   "execution_count": 6,
   "id": "c3d8c702",
   "metadata": {},
   "outputs": [],
   "source": [
    "Xtr1.to_csv('Xtr_Assessed_Value.csv', index=False)\n",
    "Xte1.to_csv('Xte_Assessed_Value.csv', index=False)"
   ]
  }
 ],
 "metadata": {
  "kernelspec": {
   "display_name": "Python 3 (ipykernel)",
   "language": "python",
   "name": "python3"
  },
  "language_info": {
   "codemirror_mode": {
    "name": "ipython",
    "version": 3
   },
   "file_extension": ".py",
   "mimetype": "text/x-python",
   "name": "python",
   "nbconvert_exporter": "python",
   "pygments_lexer": "ipython3",
   "version": "3.11.5"
  }
 },
 "nbformat": 4,
 "nbformat_minor": 5
}
