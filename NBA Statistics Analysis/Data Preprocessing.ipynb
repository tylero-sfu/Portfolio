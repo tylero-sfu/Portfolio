{
 "cells": [
  {
   "cell_type": "markdown",
   "id": "ba1d8898",
   "metadata": {},
   "source": [
    "# Data Preprocessing"
   ]
  },
  {
   "cell_type": "code",
   "execution_count": 1,
   "id": "9e508542",
   "metadata": {},
   "outputs": [
    {
     "name": "stdout",
     "output_type": "stream",
     "text": [
      "Intel MKL WARNING: Support of Intel(R) Streaming SIMD Extensions 4.2 (Intel(R) SSE4.2) enabled only processors has been deprecated. Intel oneAPI Math Kernel Library 2025.0 will require Intel(R) Advanced Vector Extensions (Intel(R) AVX) instructions.\n",
      "Intel MKL WARNING: Support of Intel(R) Streaming SIMD Extensions 4.2 (Intel(R) SSE4.2) enabled only processors has been deprecated. Intel oneAPI Math Kernel Library 2025.0 will require Intel(R) Advanced Vector Extensions (Intel(R) AVX) instructions.\n"
     ]
    }
   ],
   "source": [
    "import pandas as pd"
   ]
  },
  {
   "cell_type": "code",
   "execution_count": 2,
   "id": "53bda7e3",
   "metadata": {},
   "outputs": [],
   "source": [
    "df = pd.read_csv('game.csv', parse_dates=['game_date'])"
   ]
  },
  {
   "cell_type": "code",
   "execution_count": 3,
   "id": "5a00f1a1",
   "metadata": {},
   "outputs": [],
   "source": [
    "basket = df[['game_date','min','matchup_home','wl_home','season_type','pts_home','pts_away',\\\n",
    "            'fgm_home','fga_home','ftm_home','fta_home','reb_home','ast_home','stl_home','tov_home','pf_home',\\\n",
    "           'fgm_away','fga_away','ftm_away','fta_away','reb_away','ast_away','stl_away','tov_away','pf_away']]"
   ]
  },
  {
   "cell_type": "code",
   "execution_count": 5,
   "id": "2a3aaa7a",
   "metadata": {},
   "outputs": [],
   "source": [
    "basket = basket.dropna()"
   ]
  },
  {
   "cell_type": "code",
   "execution_count": 7,
   "id": "1caec10d",
   "metadata": {},
   "outputs": [],
   "source": [
    "basket = basket.drop(['matchup_home'],axis = 1)"
   ]
  },
  {
   "cell_type": "code",
   "execution_count": 8,
   "id": "78b9188a",
   "metadata": {},
   "outputs": [],
   "source": [
    "basket['pts'] = basket['pts_home'] - basket['pts_away']\n",
    "basket['fgm'] = basket['fgm_home'] - basket['fgm_away']\n",
    "basket['fga'] = basket['fga_home'] - basket['fga_away']\n",
    "basket['ftm'] = basket['ftm_home'] - basket['ftm_away']\n",
    "basket['fta'] = basket['fta_home'] - basket['fta_away']\n",
    "basket['reb'] = basket['reb_home'] - basket['reb_away']\n",
    "basket['ast'] = basket['ast_home'] - basket['ast_away']\n",
    "basket['stl'] = basket['stl_home'] - basket['stl_away']\n",
    "basket['tov'] = basket['tov_home'] - basket['tov_away']\n",
    "basket['pf'] = basket['pf_home'] - basket['pf_away']"
   ]
  },
  {
   "cell_type": "code",
   "execution_count": 9,
   "id": "917b84f9",
   "metadata": {},
   "outputs": [],
   "source": [
    "regular = basket[basket['season_type'] == 'Regular Season']"
   ]
  },
  {
   "cell_type": "code",
   "execution_count": 10,
   "id": "645ddd66",
   "metadata": {},
   "outputs": [],
   "source": [
    "regular = regular.drop(['game_date','min','season_type','pts_home','pts_away',\\\n",
    "                       'fgm_home','fga_home','ftm_home','fta_home','reb_home',\\\n",
    "                       'ast_home','stl_home','tov_home','pf_home','fgm_away',\\\n",
    "                       'fga_away','ftm_away','fta_away','reb_away','ast_away',\\\n",
    "                       'stl_away','tov_away','pf_away'],axis=1)"
   ]
  },
  {
   "cell_type": "code",
   "execution_count": 11,
   "id": "92760f22",
   "metadata": {},
   "outputs": [],
   "source": [
    "def wintonum(x):\n",
    "    if (x == 'W'):\n",
    "        return 1\n",
    "    else:\n",
    "        return 0\n",
    "    \n",
    "regular['wl_home'] = regular['wl_home'].apply(wintonum)"
   ]
  },
  {
   "cell_type": "code",
   "execution_count": 13,
   "id": "b203196e",
   "metadata": {},
   "outputs": [
    {
     "data": {
      "text/html": [
       "<div>\n",
       "<style scoped>\n",
       "    .dataframe tbody tr th:only-of-type {\n",
       "        vertical-align: middle;\n",
       "    }\n",
       "\n",
       "    .dataframe tbody tr th {\n",
       "        vertical-align: top;\n",
       "    }\n",
       "\n",
       "    .dataframe thead th {\n",
       "        text-align: right;\n",
       "    }\n",
       "</style>\n",
       "<table border=\"1\" class=\"dataframe\">\n",
       "  <thead>\n",
       "    <tr style=\"text-align: right;\">\n",
       "      <th></th>\n",
       "      <th>wl_home</th>\n",
       "      <th>pts</th>\n",
       "      <th>fgm</th>\n",
       "      <th>fga</th>\n",
       "      <th>ftm</th>\n",
       "      <th>fta</th>\n",
       "      <th>reb</th>\n",
       "      <th>ast</th>\n",
       "      <th>stl</th>\n",
       "      <th>tov</th>\n",
       "      <th>pf</th>\n",
       "    </tr>\n",
       "  </thead>\n",
       "  <tbody>\n",
       "    <tr>\n",
       "      <th>15190</th>\n",
       "      <td>0</td>\n",
       "      <td>-13.0</td>\n",
       "      <td>-9.0</td>\n",
       "      <td>-6.0</td>\n",
       "      <td>4.0</td>\n",
       "      <td>8.0</td>\n",
       "      <td>1.0</td>\n",
       "      <td>-10.0</td>\n",
       "      <td>-3.0</td>\n",
       "      <td>5.0</td>\n",
       "      <td>-5.0</td>\n",
       "    </tr>\n",
       "    <tr>\n",
       "      <th>15231</th>\n",
       "      <td>0</td>\n",
       "      <td>-2.0</td>\n",
       "      <td>-1.0</td>\n",
       "      <td>4.0</td>\n",
       "      <td>0.0</td>\n",
       "      <td>5.0</td>\n",
       "      <td>3.0</td>\n",
       "      <td>-7.0</td>\n",
       "      <td>-3.0</td>\n",
       "      <td>2.0</td>\n",
       "      <td>-3.0</td>\n",
       "    </tr>\n",
       "    <tr>\n",
       "      <th>15242</th>\n",
       "      <td>1</td>\n",
       "      <td>27.0</td>\n",
       "      <td>13.0</td>\n",
       "      <td>1.0</td>\n",
       "      <td>1.0</td>\n",
       "      <td>5.0</td>\n",
       "      <td>8.0</td>\n",
       "      <td>9.0</td>\n",
       "      <td>8.0</td>\n",
       "      <td>-6.0</td>\n",
       "      <td>2.0</td>\n",
       "    </tr>\n",
       "    <tr>\n",
       "      <th>15255</th>\n",
       "      <td>0</td>\n",
       "      <td>-7.0</td>\n",
       "      <td>-2.0</td>\n",
       "      <td>2.0</td>\n",
       "      <td>-3.0</td>\n",
       "      <td>3.0</td>\n",
       "      <td>14.0</td>\n",
       "      <td>-3.0</td>\n",
       "      <td>-2.0</td>\n",
       "      <td>4.0</td>\n",
       "      <td>1.0</td>\n",
       "    </tr>\n",
       "    <tr>\n",
       "      <th>15291</th>\n",
       "      <td>1</td>\n",
       "      <td>29.0</td>\n",
       "      <td>17.0</td>\n",
       "      <td>12.0</td>\n",
       "      <td>-5.0</td>\n",
       "      <td>-5.0</td>\n",
       "      <td>-6.0</td>\n",
       "      <td>16.0</td>\n",
       "      <td>11.0</td>\n",
       "      <td>-8.0</td>\n",
       "      <td>4.0</td>\n",
       "    </tr>\n",
       "  </tbody>\n",
       "</table>\n",
       "</div>"
      ],
      "text/plain": [
       "       wl_home   pts   fgm   fga  ftm  fta   reb   ast   stl  tov   pf\n",
       "15190        0 -13.0  -9.0  -6.0  4.0  8.0   1.0 -10.0  -3.0  5.0 -5.0\n",
       "15231        0  -2.0  -1.0   4.0  0.0  5.0   3.0  -7.0  -3.0  2.0 -3.0\n",
       "15242        1  27.0  13.0   1.0  1.0  5.0   8.0   9.0   8.0 -6.0  2.0\n",
       "15255        0  -7.0  -2.0   2.0 -3.0  3.0  14.0  -3.0  -2.0  4.0  1.0\n",
       "15291        1  29.0  17.0  12.0 -5.0 -5.0  -6.0  16.0  11.0 -8.0  4.0"
      ]
     },
     "execution_count": 13,
     "metadata": {},
     "output_type": "execute_result"
    }
   ],
   "source": [
    "regular.head()"
   ]
  },
  {
   "cell_type": "code",
   "execution_count": 15,
   "id": "6b6d2966",
   "metadata": {},
   "outputs": [],
   "source": [
    "regular.to_csv('regular.csv', index=False)"
   ]
  }
 ],
 "metadata": {
  "kernelspec": {
   "display_name": "Python 3 (ipykernel)",
   "language": "python",
   "name": "python3"
  },
  "language_info": {
   "codemirror_mode": {
    "name": "ipython",
    "version": 3
   },
   "file_extension": ".py",
   "mimetype": "text/x-python",
   "name": "python",
   "nbconvert_exporter": "python",
   "pygments_lexer": "ipython3",
   "version": "3.9.17"
  }
 },
 "nbformat": 4,
 "nbformat_minor": 5
}
