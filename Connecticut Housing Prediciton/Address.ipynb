{
 "cells": [
  {
   "cell_type": "code",
   "execution_count": 1,
   "id": "aa9018cf",
   "metadata": {},
   "outputs": [],
   "source": [
    "import pandas as pd\n",
    "import re"
   ]
  },
  {
   "cell_type": "code",
   "execution_count": 2,
   "id": "a16e2a47",
   "metadata": {},
   "outputs": [
    {
     "name": "stderr",
     "output_type": "stream",
     "text": [
      "C:\\Users\\Tyler\\AppData\\Local\\Temp\\ipykernel_8944\\1219892066.py:2: DtypeWarning: Columns (6,7) have mixed types. Specify dtype option on import or set low_memory=False.\n",
      "  Xte = pd.read_csv('Xte.csv')\n"
     ]
    }
   ],
   "source": [
    "Xtr = pd.read_csv('Xtr.csv')\n",
    "Xte = pd.read_csv('Xte.csv')\n",
    "\n",
    "Xtr = Xtr[['ID','Address']]\n",
    "Xte = Xte[['ID','Address']]\n",
    "\n",
    "Xtr['Address'] = Xtr['Address'].astype(str)\n",
    "Xte['Address'] = Xte['Address'].astype(str)"
   ]
  },
  {
   "cell_type": "code",
   "execution_count": 10,
   "id": "6eab6239",
   "metadata": {},
   "outputs": [
    {
     "name": "stdout",
     "output_type": "stream",
     "text": [
      "Your selected dataframe has 2 columns.\n",
      "There are 0 columns that have missing values.\n",
      "Your selected dataframe has 2 columns.\n",
      "There are 0 columns that have missing values.\n"
     ]
    },
    {
     "data": {
      "text/html": [
       "<div>\n",
       "<style scoped>\n",
       "    .dataframe tbody tr th:only-of-type {\n",
       "        vertical-align: middle;\n",
       "    }\n",
       "\n",
       "    .dataframe tbody tr th {\n",
       "        vertical-align: top;\n",
       "    }\n",
       "\n",
       "    .dataframe thead th {\n",
       "        text-align: right;\n",
       "    }\n",
       "</style>\n",
       "<table border=\"1\" class=\"dataframe\">\n",
       "  <thead>\n",
       "    <tr style=\"text-align: right;\">\n",
       "      <th></th>\n",
       "      <th>Missing Values</th>\n",
       "      <th>% of Total Values</th>\n",
       "    </tr>\n",
       "  </thead>\n",
       "  <tbody>\n",
       "  </tbody>\n",
       "</table>\n",
       "</div>"
      ],
      "text/plain": [
       "Empty DataFrame\n",
       "Columns: [Missing Values, % of Total Values]\n",
       "Index: []"
      ]
     },
     "execution_count": 10,
     "metadata": {},
     "output_type": "execute_result"
    }
   ],
   "source": [
    "# https://www.kaggle.com/code/msk1097/energy-star-score-regression\n",
    "def missing_values_table(df):\n",
    "        # Total missing values\n",
    "        mis_val = df.isnull().sum()\n",
    "        \n",
    "        # Percentage of missing values\n",
    "        mis_val_percent = 100 * df.isnull().sum() / len(df)\n",
    "        \n",
    "        # Make a table with the results\n",
    "        mis_val_table = pd.concat([mis_val, mis_val_percent], axis=1)\n",
    "        \n",
    "        # Rename the columns\n",
    "        mis_val_table_ren_columns = mis_val_table.rename(\n",
    "        columns = {0 : 'Missing Values', 1 : '% of Total Values'})\n",
    "        \n",
    "        # Sort the table by percentage of missing descending\n",
    "        mis_val_table_ren_columns = mis_val_table_ren_columns[\n",
    "            mis_val_table_ren_columns.iloc[:,1] != 0].sort_values(\n",
    "        '% of Total Values', ascending=False).round(1)\n",
    "        \n",
    "        # Print some summary information\n",
    "        print (\"Your selected dataframe has \" + str(df.shape[1]) + \" columns.\\n\"      \n",
    "            \"There are \" + str(mis_val_table_ren_columns.shape[0]) +\n",
    "              \" columns that have missing values.\")\n",
    "        \n",
    "        # Return the dataframe with missing information\n",
    "        return mis_val_table_ren_columns\n",
    "    \n",
    "missing_values_table(Xtr)\n",
    "missing_values_table(Xte)"
   ]
  },
  {
   "cell_type": "code",
   "execution_count": 3,
   "id": "1c1f9119",
   "metadata": {},
   "outputs": [],
   "source": [
    "Xtr['Address'] = Xtr['Address'].str.replace('[^a-zA-Z0-9\\s]', '', regex=True)\n",
    "Xte['Address'] = Xte['Address'].str.replace('[^a-zA-Z0-9\\s]', '', regex=True)\n",
    "Xtr['Address'] = Xtr['Address'].str.lstrip()\n",
    "Xte['Address'] = Xte['Address'].str.lstrip()\n",
    "Xtr['Address'] = Xtr['Address'].str.replace(r\"\\s+[A-Z]$\", \"\", regex=True)\n",
    "Xte['Address'] = Xte['Address'].str.replace(r\"\\s+[A-Z]$\", \"\", regex=True)\n",
    "Xtr['Address'] = Xtr['Address'].str.replace(r'\\s+', ' ', regex=True)\n",
    "Xte['Address'] = Xte['Address'].str.replace(r'\\s+', ' ', regex=True)"
   ]
  },
  {
   "cell_type": "code",
   "execution_count": 4,
   "id": "33685ea0",
   "metadata": {},
   "outputs": [],
   "source": [
    "abbreviation_mapping = {\n",
    "    'VLG': 'VILLAGE',\n",
    "    'VILL': 'VILLAGE',\n",
    "    'ST': 'STREET',\n",
    "    'RD': 'ROAD',\n",
    "    'LN': 'LANE',\n",
    "    'LA' : 'LANE',\n",
    "    'AVE': 'AVENUE',\n",
    "    'AV': 'AVENUE',\n",
    "    'RDG': 'RIDGE',\n",
    "    'BLVD': 'BOULEVARD',\n",
    "    'RTE': 'ROUTE',\n",
    "    'UT': 'UNIT',\n",
    "    'CIR': 'CIRCLE',\n",
    "    'ISLE': 'IS',\n",
    "    'CT' : 'COURT',\n",
    "    'DR' : 'DRIVE',\n",
    "    'PL' : 'PLACE',\n",
    "    'HL' : 'HILL',\n",
    "    'PT' : 'POINT',\n",
    "    'TR' : 'TERRACE',\n",
    "    'TER' : 'TERRACE',\n",
    "    'TERR' : 'TERRACE',\n",
    "    'HWY' : 'HIGHWAY',\n",
    "    'HGHY' : 'HIGHWAY',\n",
    "    'HGWY' : 'HIGHWAY',\n",
    "    'TRL' : 'TRAIL',\n",
    "    'SQ' : 'SQUARE',\n",
    "    'LT' : 'LOT'\n",
    "}\n",
    "pattern = r'\\b(' + '|'.join(abbreviation_mapping.keys()) + r')\\b'\n",
    "def replace_abbreviations(match):\n",
    "    return abbreviation_mapping[match.group(0)]\n",
    "Xtr['Address'] = Xtr['Address'].apply(lambda x: re.sub(pattern, replace_abbreviations, x))\n",
    "Xte['Address'] = Xte['Address'].apply(lambda x: re.sub(pattern, replace_abbreviations, x))"
   ]
  },
  {
   "cell_type": "code",
   "execution_count": 5,
   "id": "f347d1f8",
   "metadata": {},
   "outputs": [],
   "source": [
    "direction_mapping = {\n",
    "    'W ': 'WEST ',\n",
    "    'E ': 'EAST ',\n",
    "    'N ': 'NORTH ',\n",
    "    'S ': 'SOUTH '\n",
    "}\n",
    "pattern = r'^(' + '|'.join(re.escape(key) for key in direction_mapping.keys()) + r')'\n",
    "\n",
    "def replace_directions(match):\n",
    "    return direction_mapping[match.group(0)]\n",
    "Xtr['Address'] = Xtr['Address'].str.replace(pattern, replace_directions, regex=True)\n",
    "Xte['Address'] = Xte['Address'].str.replace(pattern, replace_directions, regex=True)"
   ]
  },
  {
   "cell_type": "code",
   "execution_count": 6,
   "id": "76a86c47",
   "metadata": {},
   "outputs": [],
   "source": [
    "pattern = r' (LOT|UNIT|EXT|EXTENSION)$'\n",
    "Xtr['Address'] = Xtr['Address'].str.replace(pattern, r'\\1', regex=True)\n",
    "Xte['Address'] = Xte['Address'].str.replace(pattern, r'\\1', regex=True)\n",
    "pattern = r'^[A-C]\\s'\n",
    "Xtr['Address'] = Xtr['Address'].str.replace(pattern, '', regex=True)\n",
    "Xte['Address'] = Xte['Address'].str.replace(pattern, '', regex=True)"
   ]
  },
  {
   "cell_type": "code",
   "execution_count": 7,
   "id": "20319184",
   "metadata": {},
   "outputs": [],
   "source": [
    "pattern = r'(STREET|AVENUE|DRIVE|ROAD)(EXT|UNIT)$'\n",
    "\n",
    "def remove_ext(match):\n",
    "    return match.group(1)\n",
    "\n",
    "Xtr['Address'] = Xtr['Address'].str.replace(pattern, remove_ext, regex=True)\n",
    "Xte['Address'] = Xte['Address'].str.replace(pattern, remove_ext, regex=True)"
   ]
  },
  {
   "cell_type": "code",
   "execution_count": 8,
   "id": "f6a7cb28",
   "metadata": {},
   "outputs": [],
   "source": [
    "Xtr.to_csv('Xtr_Address.csv', index=False)\n",
    "Xte.to_csv('Xte_Address.csv', index=False)"
   ]
  }
 ],
 "metadata": {
  "kernelspec": {
   "display_name": "Python 3 (ipykernel)",
   "language": "python",
   "name": "python3"
  },
  "language_info": {
   "codemirror_mode": {
    "name": "ipython",
    "version": 3
   },
   "file_extension": ".py",
   "mimetype": "text/x-python",
   "name": "python",
   "nbconvert_exporter": "python",
   "pygments_lexer": "ipython3",
   "version": "3.11.5"
  }
 },
 "nbformat": 4,
 "nbformat_minor": 5
}
