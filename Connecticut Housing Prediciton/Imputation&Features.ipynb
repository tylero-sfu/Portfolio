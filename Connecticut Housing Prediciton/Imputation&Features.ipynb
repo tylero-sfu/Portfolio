{
 "cells": [
  {
   "cell_type": "code",
   "execution_count": 7,
   "id": "09802456",
   "metadata": {},
   "outputs": [],
   "source": [
    "import pandas as pd\n",
    "import numpy as np\n",
    "from sklearn.impute import KNNImputer\n",
    "from sklearn.preprocessing import LabelEncoder"
   ]
  },
  {
   "cell_type": "code",
   "execution_count": 14,
   "id": "a7173216",
   "metadata": {},
   "outputs": [
    {
     "name": "stderr",
     "output_type": "stream",
     "text": [
      "C:\\Users\\Tyler\\AppData\\Local\\Temp\\ipykernel_17396\\4197991358.py:2: DtypeWarning: Columns (6,7) have mixed types. Specify dtype option on import or set low_memory=False.\n",
      "  Xte = pd.read_csv('Xte_Assessed_Value.csv')\n"
     ]
    }
   ],
   "source": [
    "Xtr = pd.read_csv('Xtr_Assessed_Value.csv')\n",
    "Xte = pd.read_csv('Xte_Assessed_Value.csv')\n",
    "Ytr = pd.read_csv('Ytr.csv')"
   ]
  },
  {
   "cell_type": "code",
   "execution_count": 19,
   "id": "8dcd016c",
   "metadata": {},
   "outputs": [],
   "source": [
    "# Calculate the 'Ratio' and handle zeros\n",
    "merged_data = Xtr.merge(Ytr, on='ID')\n",
    "merged_data['Ratio'] = merged_data['Sale_Amount'] / merged_data['Assessed_Value']\n",
    "merged_data['Ratio'] = merged_data['Ratio'].replace(0, np.nan)\n",
    "\n",
    "# Group by 'List_Year' and 'Town' to calculate the mean 'Ratio'\n",
    "result = merged_data.groupby(['List_Year', 'Town'])[['Ratio']].mean().reset_index()\n",
    "result['Ratio'] = result['Ratio'].replace([np.inf, -np.inf], np.nan)\n",
    "\n",
    "# Encode 'Town' using LabelEncoder\n",
    "label_encoder = LabelEncoder()\n",
    "result['Town'] = label_encoder.fit_transform(result['Town'])\n",
    "data = result[['List_Year', 'Town', 'Ratio']]\n",
    "\n",
    "# Imputation missing Sales_Ratio by using KNNImputer\n",
    "# Reason: When creating Ratio, there should be missing values since we have missing Assessed_Value.\n",
    "# https://scikit-learn.org/stable/modules/generated/sklearn.impute.KNNImputer.html\n",
    "imputer = KNNImputer(n_neighbors=30)\n",
    "imputed_data = imputer.fit_transform(data)\n",
    "result['Ratio'] = imputed_data[:, 2]\n",
    "\n",
    "# Getting Town names back in result column since it was encoded by integer.\n",
    "Town = merged_data.groupby(['List_Year', 'Town'])[['Ratio']].mean().reset_index()\n",
    "result['Town'] = Town['Town']\n",
    "\n",
    "Xtr = Xtr.merge(result[['List_Year', 'Town', 'Ratio']], on=['List_Year', 'Town'], how='left')\n",
    "mean_sales_ratio = Xtr.groupby(['List_Year', 'Town'])[['Ratio']].mean().reset_index()\n",
    "Xte = Xte.merge(mean_sales_ratio, on=['List_Year', 'Town'], how='left')"
   ]
  },
  {
   "cell_type": "code",
   "execution_count": 20,
   "id": "3f3c5d5d",
   "metadata": {},
   "outputs": [
    {
     "name": "stderr",
     "output_type": "stream",
     "text": [
      "C:\\Users\\Tyler\\AppData\\Local\\Temp\\ipykernel_17396\\4253608891.py:20: SettingWithCopyWarning: \n",
      "A value is trying to be set on a copy of a slice from a DataFrame.\n",
      "Try using .loc[row_indexer,col_indexer] = value instead\n",
      "\n",
      "See the caveats in the documentation: https://pandas.pydata.org/pandas-docs/stable/user_guide/indexing.html#returning-a-view-versus-a-copy\n",
      "  Xtr4['Assessed_Value'] = np.log1p(Xtr4['Assessed_Value'])\n",
      "C:\\Users\\Tyler\\AppData\\Local\\Temp\\ipykernel_17396\\4253608891.py:21: SettingWithCopyWarning: \n",
      "A value is trying to be set on a copy of a slice from a DataFrame.\n",
      "Try using .loc[row_indexer,col_indexer] = value instead\n",
      "\n",
      "See the caveats in the documentation: https://pandas.pydata.org/pandas-docs/stable/user_guide/indexing.html#returning-a-view-versus-a-copy\n",
      "  Xte4['Assessed_Value'] = np.log1p(Xte4['Assessed_Value'])\n",
      "C:\\Users\\Tyler\\AppData\\Local\\Temp\\ipykernel_17396\\4253608891.py:24: SettingWithCopyWarning: \n",
      "A value is trying to be set on a copy of a slice from a DataFrame.\n",
      "Try using .loc[row_indexer,col_indexer] = value instead\n",
      "\n",
      "See the caveats in the documentation: https://pandas.pydata.org/pandas-docs/stable/user_guide/indexing.html#returning-a-view-versus-a-copy\n",
      "  Xtr4[\"F1B\"] = feature1Btr\n",
      "C:\\Users\\Tyler\\AppData\\Local\\Temp\\ipykernel_17396\\4253608891.py:25: SettingWithCopyWarning: \n",
      "A value is trying to be set on a copy of a slice from a DataFrame.\n",
      "Try using .loc[row_indexer,col_indexer] = value instead\n",
      "\n",
      "See the caveats in the documentation: https://pandas.pydata.org/pandas-docs/stable/user_guide/indexing.html#returning-a-view-versus-a-copy\n",
      "  Xte4[\"F1B\"] = feature1Bte\n",
      "C:\\Users\\Tyler\\AppData\\Local\\Temp\\ipykernel_17396\\4253608891.py:28: SettingWithCopyWarning: \n",
      "A value is trying to be set on a copy of a slice from a DataFrame\n",
      "\n",
      "See the caveats in the documentation: https://pandas.pydata.org/pandas-docs/stable/user_guide/indexing.html#returning-a-view-versus-a-copy\n",
      "  Xtr4.drop(\"Town\", axis=1, inplace=True)\n",
      "C:\\Users\\Tyler\\AppData\\Local\\Temp\\ipykernel_17396\\4253608891.py:29: SettingWithCopyWarning: \n",
      "A value is trying to be set on a copy of a slice from a DataFrame\n",
      "\n",
      "See the caveats in the documentation: https://pandas.pydata.org/pandas-docs/stable/user_guide/indexing.html#returning-a-view-versus-a-copy\n",
      "  Xte4.drop(\"Town\", axis=1, inplace=True)\n"
     ]
    }
   ],
   "source": [
    "Xtr4 = Xtr[[\"List_Year\", \"Assessed_Value\", \"Town\", \"Ratio\"]]\n",
    "Xte4 = Xte[[\"List_Year\", \"Assessed_Value\", \"Town\", \"Ratio\"]]\n",
    "\n",
    "# Calculate feature1Btr\n",
    "towns = Xtr4[\"Town\"].unique()\n",
    "feature1Btr = np.empty(len(Xtr4))\n",
    "for town in towns:\n",
    "    mask = Xtr4[\"Town\"] == town\n",
    "    mu = Ytr.loc[mask, \"Sale_Amount\"].mean()\n",
    "    feature1Btr[mask] = mu\n",
    "\n",
    "# Calculate feature1Bte\n",
    "feature1Bte = np.zeros(len(Xte4))\n",
    "for town in towns:\n",
    "    mask = Xtr4[\"Town\"] == town\n",
    "    mu = Ytr.loc[mask, \"Sale_Amount\"].mean()\n",
    "    mask = Xte4[\"Town\"] == town\n",
    "    feature1Bte[mask] = mu\n",
    "\n",
    "Xtr4['Assessed_Value'] = np.log1p(Xtr4['Assessed_Value'])\n",
    "Xte4['Assessed_Value'] = np.log1p(Xte4['Assessed_Value'])\n",
    "\n",
    "# Add F1B feature\n",
    "Xtr4[\"F1B\"] = feature1Btr\n",
    "Xte4[\"F1B\"] = feature1Bte\n",
    "\n",
    "# Drop the \"Town\" column\n",
    "Xtr4.drop(\"Town\", axis=1, inplace=True)\n",
    "Xte4.drop(\"Town\", axis=1, inplace=True)"
   ]
  },
  {
   "cell_type": "code",
   "execution_count": 21,
   "id": "be5f9911",
   "metadata": {},
   "outputs": [],
   "source": [
    "Xtr4.to_csv('Xtr_Final.csv', index=False)\n",
    "Xte4.to_csv('Xte_Final.csv', index=False)"
   ]
  }
 ],
 "metadata": {
  "kernelspec": {
   "display_name": "Python 3 (ipykernel)",
   "language": "python",
   "name": "python3"
  },
  "language_info": {
   "codemirror_mode": {
    "name": "ipython",
    "version": 3
   },
   "file_extension": ".py",
   "mimetype": "text/x-python",
   "name": "python",
   "nbconvert_exporter": "python",
   "pygments_lexer": "ipython3",
   "version": "3.11.5"
  }
 },
 "nbformat": 4,
 "nbformat_minor": 5
}
